{
 "cells": [
  {
   "cell_type": "code",
   "execution_count": 3,
   "id": "initial_id",
   "metadata": {
    "collapsed": true,
    "ExecuteTime": {
     "end_time": "2023-11-05T17:28:47.069166404Z",
     "start_time": "2023-11-05T17:28:44.817611449Z"
    }
   },
   "outputs": [
    {
     "name": "stdout",
     "output_type": "stream",
     "text": [
      "        Unnamed: 0                                          reference  \\\n",
      "0                0  If Alkar is flooding her with psychic waste, t...   \n",
      "1                1                          Now you're getting nasty.   \n",
      "2                2           Well, we could spare your life, for one.   \n",
      "3                3          Ah! Monkey, you've got to snap out of it.   \n",
      "4                4                   I've got orders to put her down.   \n",
      "...            ...                                                ...   \n",
      "577772      577772  You didn't know that Estelle had stolen some f...   \n",
      "577773      577773                    It'il suck the life out of you!   \n",
      "577774      577774                   I can't fuckin' take that, bruv.   \n",
      "577775      577775  They called me a fucking hero. The truth is I ...   \n",
      "577776      577776                               I did not screw him.   \n",
      "\n",
      "                                              translation  similarity  \\\n",
      "0       if Alkar floods her with her mental waste, it ...    0.785171   \n",
      "1                             you're becoming disgusting.    0.749687   \n",
      "2                           well, we can spare your life.    0.919051   \n",
      "3                            monkey, you have to wake up.    0.664333   \n",
      "4                              I have orders to kill her.    0.726639   \n",
      "...                                                   ...         ...   \n",
      "577772  you didn't know that Estelle stole your fish f...    0.870322   \n",
      "577773                  you'd be sucked out of your life!    0.722897   \n",
      "577774                          I really can't take this.    0.617511   \n",
      "577775         they said I was a hero, but I didn't care.    0.679613   \n",
      "577776                                 I didn't fuck him.    0.868475   \n",
      "\n",
      "        lenght_diff   ref_tox   trn_tox  \n",
      "0          0.010309  0.014195  0.981983  \n",
      "1          0.071429  0.065473  0.999039  \n",
      "2          0.268293  0.213313  0.985068  \n",
      "3          0.309524  0.053362  0.994215  \n",
      "4          0.181818  0.009402  0.999348  \n",
      "...             ...       ...       ...  \n",
      "577772     0.030769  0.000121  0.949143  \n",
      "577773     0.058824  0.996124  0.215794  \n",
      "577774     0.212121  0.984538  0.000049  \n",
      "577775     0.358209  0.991945  0.000124  \n",
      "577776     0.095238  0.009480  0.994174  \n",
      "\n",
      "[577777 rows x 7 columns]\n"
     ]
    }
   ],
   "source": [
    "import pandas as pd\n",
    "toxic_df = pd.read_csv('data/filtered.tsv', sep='\\t')\n",
    "print(toxic_df)"
   ]
  },
  {
   "cell_type": "code",
   "execution_count": 9,
   "outputs": [
    {
     "data": {
      "text/plain": "                                                reference\n0       If Alkar is flooding her with psychic waste, t...\n1                               Now you're getting nasty.\n2                Well, we could spare your life, for one.\n3               Ah! Monkey, you've got to snap out of it.\n4                        I've got orders to put her down.\n...                                                   ...\n577772  You didn't know that Estelle had stolen some f...\n577773                    It'il suck the life out of you!\n577774                   I can't fuckin' take that, bruv.\n577775  They called me a fucking hero. The truth is I ...\n577776                               I did not screw him.\n\n[577777 rows x 1 columns]",
      "text/html": "<div>\n<style scoped>\n    .dataframe tbody tr th:only-of-type {\n        vertical-align: middle;\n    }\n\n    .dataframe tbody tr th {\n        vertical-align: top;\n    }\n\n    .dataframe thead th {\n        text-align: right;\n    }\n</style>\n<table border=\"1\" class=\"dataframe\">\n  <thead>\n    <tr style=\"text-align: right;\">\n      <th></th>\n      <th>reference</th>\n    </tr>\n  </thead>\n  <tbody>\n    <tr>\n      <th>0</th>\n      <td>If Alkar is flooding her with psychic waste, t...</td>\n    </tr>\n    <tr>\n      <th>1</th>\n      <td>Now you're getting nasty.</td>\n    </tr>\n    <tr>\n      <th>2</th>\n      <td>Well, we could spare your life, for one.</td>\n    </tr>\n    <tr>\n      <th>3</th>\n      <td>Ah! Monkey, you've got to snap out of it.</td>\n    </tr>\n    <tr>\n      <th>4</th>\n      <td>I've got orders to put her down.</td>\n    </tr>\n    <tr>\n      <th>...</th>\n      <td>...</td>\n    </tr>\n    <tr>\n      <th>577772</th>\n      <td>You didn't know that Estelle had stolen some f...</td>\n    </tr>\n    <tr>\n      <th>577773</th>\n      <td>It'il suck the life out of you!</td>\n    </tr>\n    <tr>\n      <th>577774</th>\n      <td>I can't fuckin' take that, bruv.</td>\n    </tr>\n    <tr>\n      <th>577775</th>\n      <td>They called me a fucking hero. The truth is I ...</td>\n    </tr>\n    <tr>\n      <th>577776</th>\n      <td>I did not screw him.</td>\n    </tr>\n  </tbody>\n</table>\n<p>577777 rows × 1 columns</p>\n</div>"
     },
     "execution_count": 9,
     "metadata": {},
     "output_type": "execute_result"
    }
   ],
   "source": [
    "orig_sentences = pd.DataFrame(toxic_df[\"reference\"])\n",
    "rephrased_sentences = pd.DataFrame(toxic_df[\"translation\"])\n",
    "similarity_of_sentences = pd.DataFrame(toxic_df[\"similarity\"])\n",
    "length_diff = pd.DataFrame(toxic_df[\"lenght_diff\"])\n",
    "orig_toxicity = pd.DataFrame(toxic_df[\"ref_tox\"])\n",
    "rephrased_toxicity = pd.DataFrame(toxic_df[\"trn_tox\"])\n",
    "orig_sentences"
   ],
   "metadata": {
    "collapsed": false,
    "ExecuteTime": {
     "end_time": "2023-11-05T17:31:59.078963710Z",
     "start_time": "2023-11-05T17:31:59.035314671Z"
    }
   },
   "id": "32a526256ff415dd"
  },
  {
   "cell_type": "code",
   "execution_count": 10,
   "outputs": [
    {
     "data": {
      "text/plain": "         trn_tox\n0       0.981983\n1       0.999039\n2       0.985068\n3       0.994215\n4       0.999348\n...          ...\n577772  0.949143\n577773  0.215794\n577774  0.000049\n577775  0.000124\n577776  0.994174\n\n[577777 rows x 1 columns]",
      "text/html": "<div>\n<style scoped>\n    .dataframe tbody tr th:only-of-type {\n        vertical-align: middle;\n    }\n\n    .dataframe tbody tr th {\n        vertical-align: top;\n    }\n\n    .dataframe thead th {\n        text-align: right;\n    }\n</style>\n<table border=\"1\" class=\"dataframe\">\n  <thead>\n    <tr style=\"text-align: right;\">\n      <th></th>\n      <th>trn_tox</th>\n    </tr>\n  </thead>\n  <tbody>\n    <tr>\n      <th>0</th>\n      <td>0.981983</td>\n    </tr>\n    <tr>\n      <th>1</th>\n      <td>0.999039</td>\n    </tr>\n    <tr>\n      <th>2</th>\n      <td>0.985068</td>\n    </tr>\n    <tr>\n      <th>3</th>\n      <td>0.994215</td>\n    </tr>\n    <tr>\n      <th>4</th>\n      <td>0.999348</td>\n    </tr>\n    <tr>\n      <th>...</th>\n      <td>...</td>\n    </tr>\n    <tr>\n      <th>577772</th>\n      <td>0.949143</td>\n    </tr>\n    <tr>\n      <th>577773</th>\n      <td>0.215794</td>\n    </tr>\n    <tr>\n      <th>577774</th>\n      <td>0.000049</td>\n    </tr>\n    <tr>\n      <th>577775</th>\n      <td>0.000124</td>\n    </tr>\n    <tr>\n      <th>577776</th>\n      <td>0.994174</td>\n    </tr>\n  </tbody>\n</table>\n<p>577777 rows × 1 columns</p>\n</div>"
     },
     "execution_count": 10,
     "metadata": {},
     "output_type": "execute_result"
    }
   ],
   "source": [
    "rephrased_toxicity"
   ],
   "metadata": {
    "collapsed": false,
    "ExecuteTime": {
     "end_time": "2023-11-05T17:32:11.760411569Z",
     "start_time": "2023-11-05T17:32:11.751450091Z"
    }
   },
   "id": "b11b5a421849cc8d"
  }
 ],
 "metadata": {
  "kernelspec": {
   "display_name": "Python 3",
   "language": "python",
   "name": "python3"
  },
  "language_info": {
   "codemirror_mode": {
    "name": "ipython",
    "version": 2
   },
   "file_extension": ".py",
   "mimetype": "text/x-python",
   "name": "python",
   "nbconvert_exporter": "python",
   "pygments_lexer": "ipython2",
   "version": "2.7.6"
  }
 },
 "nbformat": 4,
 "nbformat_minor": 5
}
